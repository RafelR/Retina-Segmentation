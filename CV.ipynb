{
 "cells": [
  {
   "cell_type": "code",
   "execution_count": 283,
   "metadata": {},
   "outputs": [],
   "source": [
    "import numpy as np\n",
    "import matplotlib.pyplot as plt\n",
    "import cv2 as cv\n",
    "from glob import glob\n",
    "import os\n",
    "import time"
   ]
  },
  {
   "cell_type": "code",
   "execution_count": 284,
   "metadata": {},
   "outputs": [],
   "source": [
    "image_dir = 'E:\\\\File Ngawur\\\\URGENNN\\\\Final Project CV\\\\Dataset\\\\Data'\n",
    "label_dir = 'E:\\\\File Ngawur\\\\URGENNN\\\\Final Project CV\\\\Dataset\\\\GT'\n",
    "\n",
    "path_save = 'E:\\\\File Ngawur\\\\URGENNN\\\\Final Project CV\\\\Dataset\\\\HASIL\\\\'\n",
    "\n",
    "filelist = glob(os.path.join(image_dir, '*.tif'))\n",
    "filelist_label = glob(os.path.join(label_dir, '*.jpg'))"
   ]
  },
  {
   "cell_type": "code",
   "execution_count": 285,
   "metadata": {},
   "outputs": [],
   "source": [
    "image_list = []\n",
    "label_list = []\n",
    "list_nama = []\n",
    "\n",
    "for file in filelist:\n",
    "    image_list.append(cv.imread(file,1)[10:-10, 10:-10])\n",
    "    list_nama.append(file[53:-4])\n",
    "for file in filelist_label:\n",
    "    img_gray = cv.imread(file,0)[10:-10, 10:-10]\n",
    "    ret, img = cv.threshold(img_gray,150,255,cv.THRESH_BINARY)\n",
    "    img = img//255\n",
    "    label_list.append(img)"
   ]
  },
  {
   "cell_type": "code",
   "execution_count": 286,
   "metadata": {},
   "outputs": [],
   "source": [
    "def create_mask(r):\n",
    "    kernel = cv.getStructuringElement(cv.MORPH_CROSS, (3,3))\n",
    "    ret, thres = cv.threshold(r,35,255,cv.THRESH_BINARY)\n",
    "    thres = cv.morphologyEx(thres, cv.MORPH_OPEN, kernel)\n",
    "    thres = cv.morphologyEx(thres, cv.MORPH_CLOSE, kernel)\n",
    "    thres = cv.erode(thres, kernel, iterations = 1)\n",
    "    return thres"
   ]
  },
  {
   "cell_type": "code",
   "execution_count": 287,
   "metadata": {},
   "outputs": [],
   "source": [
    "kernel = cv.getStructuringElement(cv.MORPH_CROSS,(9,9))\n",
    "clahe = cv.createCLAHE(clipLimit=3, tileGridSize=(8,8))\n",
    "hasil = []\n",
    "i = 0\n",
    "for image in image_list :\n",
    "    b, g, r = cv.split(image)\n",
    "    g = clahe.apply(g)\n",
    "    blur = cv.blur(g,(60,60))\n",
    "    diff = cv.subtract(blur,g)\n",
    "    ret, otsu = cv.threshold(diff,0,255,cv.THRESH_BINARY+cv.THRESH_OTSU)\n",
    "    mask = create_mask(r)\n",
    "    masked_image = cv.bitwise_and(otsu,otsu,mask=mask)\n",
    "    final_image = cv.morphologyEx(masked_image, cv.MORPH_OPEN, kernel)\n",
    "    cv.imwrite(path_save + filelist[i][41:-4]+\".jpg\", final_image)\n",
    "    hasil.append(final_image)\n",
    "    i = i + 1"
   ]
  },
  {
   "cell_type": "code",
   "execution_count": 288,
   "metadata": {},
   "outputs": [],
   "source": [
    "for i, r in enumerate(hasil) :\n",
    "    hasil[i] = r//255\n",
    "\n",
    "has = np.array(hasil)\n",
    "has = has.reshape(-1, has.shape[1]*has.shape[2])\n",
    "label = np.array(label_list)\n",
    "label = label.reshape(-1, label.shape[1]*label.shape[2])"
   ]
  },
  {
   "cell_type": "code",
   "execution_count": 289,
   "metadata": {},
   "outputs": [],
   "source": [
    "from sklearn.metrics import accuracy_score,roc_auc_score,precision_score,recall_score,f1_score,log_loss\n",
    "from sklearn.metrics import confusion_matrix, classification_report"
   ]
  },
  {
   "cell_type": "code",
   "execution_count": 290,
   "metadata": {},
   "outputs": [
    {
     "name": "stdout",
     "output_type": "stream",
     "text": [
      "Done  image10prime 98.0714 83.0358 99.258 89.828 98.6692\n",
      "Done  image11prime 97.3369 78.4974 98.4606 75.2557 98.7142\n",
      "Done  image13prime 97.8856 81.3118 99.2783 90.4473 98.4428\n",
      "Done  image14prime 98.0797 81.9453 99.594 94.986 98.327\n",
      "Done  image15prime 98.3004 80.9634 99.4426 90.5375 98.7546\n",
      "Done  image16prime 97.9263 75.8992 99.6369 94.198 98.1561\n",
      "Done  image17prime 97.549 82.0033 99.0041 88.5161 98.3269\n",
      "Done  image18prime 97.8589 82.8765 99.406 93.5095 98.2523\n",
      "Done  image19prime 98.0515 78.1241 99.6061 93.9291 98.3155\n",
      "Done  image1prime 98.3561 84.6174 99.3908 91.2744 98.8478\n",
      "Done  image24prime 97.5521 77.0266 99.609 95.1784 97.7409\n",
      "Done  image27prime 98.1271 84.0194 99.281 90.5283 98.7005\n",
      "Done  image2prime 98.1483 82.3692 99.2523 88.5151 98.7725\n",
      "Done  image3prime 98.6364 82.569 99.4567 88.5834 99.1131\n",
      "Done  image4prime 97.8474 79.9937 99.1874 88.0787 98.5087\n",
      "Done  image5prime 98.253 83.5113 99.2398 88.0286 98.9001\n",
      "Done  image6prime 97.6133 81.3531 99.1982 90.8171 98.2008\n",
      "Done  image7prime 98.2112 84.6323 99.3974 92.463 98.6674\n",
      "Done  image8prime 97.7289 80.2888 99.1549 88.594 98.4006\n",
      "Done  image9prime 98.6044 76.8527 99.5771 89.0449 98.9711\n"
     ]
    }
   ],
   "source": [
    "from prettytable import PrettyTable\n",
    "tabel = PrettyTable([\"Gambar\",\"Accuracy\",\"Sensitivity\",\"Specificity\", \"Ppv\", \"Npv\"])\n",
    "i = 0\n",
    "from sklearn.metrics import confusion_matrix\n",
    "acc = 0\n",
    "sen = 0\n",
    "spe = 0\n",
    "p = 0\n",
    "n = 0\n",
    "\n",
    "acc_l = []\n",
    "sen_l = []\n",
    "spe_l = []\n",
    "p_l = []\n",
    "n_l = []\n",
    "\n",
    "\n",
    "for h, l in zip(has,label):\n",
    "    \n",
    "    tn, fp, fn, tp = confusion_matrix(l, h).ravel()\n",
    "    \n",
    "    accuracy = round((tp+tn)/(tp+tn+fp+fn)*100,4)\n",
    "    sensitivity = round(tp/(tp+fn)*100,4)\n",
    "    specificity = round(tn/(tn+fp)*100,4)\n",
    "    ppv = round(tp/(tp+fp)*100,4)\n",
    "    npv = round(tn/(tn+fn)*100,4)\n",
    "    \n",
    "    acc += accuracy\n",
    "    sen += sensitivity\n",
    "    spe += specificity\n",
    "    p += ppv\n",
    "    n += npv\n",
    "    \n",
    "    acc_l.append(accuracy)\n",
    "    sen_l.append(sensitivity)\n",
    "    spe_l.append(specificity)\n",
    "    p_l.append(ppv)\n",
    "    n_l.append(npv)\n",
    "    \n",
    "    param = [list_nama[i],accuracy,sensitivity,specificity,ppv,npv]\n",
    "    tabel.add_row(param)\n",
    "    i = i + 1\n",
    "    print(\"Done \", *param)\n",
    "tabel.add_row([\"Average\", round(acc/i,4), round(sen/i,4), round(spe/i,4), round(p/i,4), round(n/i,4)])\n",
    "acc_l = np.array(acc_l)\n",
    "sen_l = np.array(sen_l)\n",
    "spe_l = np.array(spe_l)\n",
    "p_l = np.array(p_l)\n",
    "n_l = np.array(n_l)\n",
    "tabel.add_row([\"STD\", round(np.std(acc_l),4), round(np.std(sen_l),4), round(np.std(spe_l),4), round(np.std(p_l),4), round(np.std(n_l),4)])"
   ]
  },
  {
   "cell_type": "code",
   "execution_count": 294,
   "metadata": {},
   "outputs": [
    {
     "name": "stdout",
     "output_type": "stream",
     "text": [
      "+--------------+----------+-------------+-------------+---------+---------+\n",
      "|    Gambar    | Accuracy | Sensitivity | Specificity |   Ppv   |   Npv   |\n",
      "+--------------+----------+-------------+-------------+---------+---------+\n",
      "| image10prime | 98.0714  |   83.0358   |    99.258   |  89.828 | 98.6692 |\n",
      "| image11prime | 97.3369  |   78.4974   |   98.4606   | 75.2557 | 98.7142 |\n",
      "| image13prime | 97.8856  |   81.3118   |   99.2783   | 90.4473 | 98.4428 |\n",
      "| image14prime | 98.0797  |   81.9453   |    99.594   |  94.986 |  98.327 |\n",
      "| image15prime | 98.3004  |   80.9634   |   99.4426   | 90.5375 | 98.7546 |\n",
      "| image16prime | 97.9263  |   75.8992   |   99.6369   |  94.198 | 98.1561 |\n",
      "| image17prime |  97.549  |   82.0033   |   99.0041   | 88.5161 | 98.3269 |\n",
      "| image18prime | 97.8589  |   82.8765   |    99.406   | 93.5095 | 98.2523 |\n",
      "| image19prime | 98.0515  |   78.1241   |   99.6061   | 93.9291 | 98.3155 |\n",
      "| image1prime  | 98.3561  |   84.6174   |   99.3908   | 91.2744 | 98.8478 |\n",
      "| image24prime | 97.5521  |   77.0266   |    99.609   | 95.1784 | 97.7409 |\n",
      "| image27prime | 98.1271  |   84.0194   |    99.281   | 90.5283 | 98.7005 |\n",
      "| image2prime  | 98.1483  |   82.3692   |   99.2523   | 88.5151 | 98.7725 |\n",
      "| image3prime  | 98.6364  |    82.569   |   99.4567   | 88.5834 | 99.1131 |\n",
      "| image4prime  | 97.8474  |   79.9937   |   99.1874   | 88.0787 | 98.5087 |\n",
      "| image5prime  |  98.253  |   83.5113   |   99.2398   | 88.0286 | 98.9001 |\n",
      "| image6prime  | 97.6133  |   81.3531   |   99.1982   | 90.8171 | 98.2008 |\n",
      "| image7prime  | 98.2112  |   84.6323   |   99.3974   |  92.463 | 98.6674 |\n",
      "| image8prime  | 97.7289  |   80.2888   |   99.1549   |  88.594 | 98.4006 |\n",
      "| image9prime  | 98.6044  |   76.8527   |   99.5771   | 89.0449 | 98.9711 |\n",
      "|   Average    | 98.0069  |   81.0945   |   99.3216   | 90.1157 | 98.5391 |\n",
      "|     STD      |  0.3373  |    2.5564   |    0.2622   |  4.1244 |  0.3227 |\n",
      "+--------------+----------+-------------+-------------+---------+---------+\n"
     ]
    }
   ],
   "source": [
    "print(tabel)"
   ]
  },
  {
   "cell_type": "code",
   "execution_count": null,
   "metadata": {},
   "outputs": [],
   "source": []
  }
 ],
 "metadata": {
  "kernelspec": {
   "display_name": "Python 3",
   "language": "python",
   "name": "python3"
  },
  "language_info": {
   "codemirror_mode": {
    "name": "ipython",
    "version": 3
   },
   "file_extension": ".py",
   "mimetype": "text/x-python",
   "name": "python",
   "nbconvert_exporter": "python",
   "pygments_lexer": "ipython3",
   "version": "3.7.3"
  }
 },
 "nbformat": 4,
 "nbformat_minor": 2
}
